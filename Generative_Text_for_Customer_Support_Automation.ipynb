{
  "nbformat": 4,
  "nbformat_minor": 0,
  "metadata": {
    "colab": {
      "provenance": [],
      "gpuType": "T4"
    },
    "kernelspec": {
      "name": "python3",
      "display_name": "Python 3"
    },
    "language_info": {
      "name": "python"
    },
    "accelerator": "GPU"
  },
  "cells": [
    {
      "cell_type": "code",
      "execution_count": 1,
      "metadata": {
        "id": "dYxLLG_IFV8v"
      },
      "outputs": [],
      "source": [
        "import pandas as pd\n",
        "import numpy as np\n",
        "import re\n",
        "import string\n"
      ]
    },
    {
      "cell_type": "code",
      "source": [
        "import csv\n",
        "import pandas as pd\n",
        "\n",
        "# Define the file path\n",
        "file_path = 'Bitext_Sample_Customer_Support_Training_Dataset_27K_responses-v11.csv'\n",
        "\n",
        "# Initialize an empty list to store rows of data\n",
        "rows = []\n",
        "\n",
        "# Attempt to read the file and handle parsing errors\n",
        "try:\n",
        "    with open(file_path, 'r', encoding='utf-8', errors='ignore') as csvfile:\n",
        "        reader = csv.reader(csvfile)\n",
        "        header = next(reader)  # Skip header\n",
        "        for i, row in enumerate(reader):\n",
        "            try:\n",
        "                if len(row) == len(header):\n",
        "                    rows.append(row)\n",
        "                else:\n",
        "                    print(f\"Ignoring line {i+2}: Unexpected number of fields\")\n",
        "            except Exception as e:\n",
        "                print(f\"Error reading line {i+2}: {e}\")\n",
        "\n",
        "    # Create a DataFrame from the list of rows\n",
        "    df = pd.DataFrame(rows, columns=header)\n",
        "    print(\"Successfully read the CSV file.\")\n",
        "    print(df.head())\n",
        "except Exception as e:\n",
        "    print(f\"Error reading CSV file: {e}\")\n"
      ],
      "metadata": {
        "colab": {
          "base_uri": "https://localhost:8080/"
        },
        "id": "ed3Oe5_aF50g",
        "outputId": "ffa5fa7a-0f64-444d-a86e-1cb4bd148bd0"
      },
      "execution_count": 2,
      "outputs": [
        {
          "output_type": "stream",
          "name": "stdout",
          "text": [
            "Successfully read the CSV file.\n",
            "   flags                                        instruction category  \\\n",
            "0      B   question about cancelling order {{Order Number}}    ORDER   \n",
            "1    BQZ  i have a question about cancelling oorder {{Or...    ORDER   \n",
            "2   BLQZ    i need help cancelling puchase {{Order Number}}    ORDER   \n",
            "3     BL         I need to cancel purchase {{Order Number}}    ORDER   \n",
            "4  BCELN  I cannot afford this order, cancel purchase {{...    ORDER   \n",
            "\n",
            "         intent                                           response  \n",
            "0  cancel_order  I've understood you have a question regarding ...  \n",
            "1  cancel_order  I've been informed that you have a question ab...  \n",
            "2  cancel_order  I can sense that you're seeking assistance wit...  \n",
            "3  cancel_order  I understood that you need assistance with can...  \n",
            "4  cancel_order  I'm sensitive to the fact that you're facing f...  \n"
          ]
        }
      ]
    },
    {
      "cell_type": "code",
      "source": [
        "# Example: Display the first few rows of the DataFrame\n",
        "print(df.head())\n",
        "\n",
        "# Example: Perform further analysis or operations on the DataFrame\n",
        "# For instance, counting unique values in a column\n",
        "category_counts = df['category'].value_counts()\n",
        "print(\"\\nCategory Counts:\")\n",
        "print(category_counts)\n"
      ],
      "metadata": {
        "colab": {
          "base_uri": "https://localhost:8080/"
        },
        "id": "a0hGQQNkGHHm",
        "outputId": "b34dba1f-b033-40c2-8b18-f19f974f97c6"
      },
      "execution_count": 3,
      "outputs": [
        {
          "output_type": "stream",
          "name": "stdout",
          "text": [
            "   flags                                        instruction category  \\\n",
            "0      B   question about cancelling order {{Order Number}}    ORDER   \n",
            "1    BQZ  i have a question about cancelling oorder {{Or...    ORDER   \n",
            "2   BLQZ    i need help cancelling puchase {{Order Number}}    ORDER   \n",
            "3     BL         I need to cancel purchase {{Order Number}}    ORDER   \n",
            "4  BCELN  I cannot afford this order, cancel purchase {{...    ORDER   \n",
            "\n",
            "         intent                                           response  \n",
            "0  cancel_order  I've understood you have a question regarding ...  \n",
            "1  cancel_order  I've been informed that you have a question ab...  \n",
            "2  cancel_order  I can sense that you're seeking assistance wit...  \n",
            "3  cancel_order  I understood that you need assistance with can...  \n",
            "4  cancel_order  I'm sensitive to the fact that you're facing f...  \n",
            "\n",
            "Category Counts:\n",
            "category\n",
            "ORDER    859\n",
            "Name: count, dtype: int64\n"
          ]
        }
      ]
    },
    {
      "cell_type": "code",
      "source": [
        "import pandas as pd\n",
        "import re\n",
        "import string\n",
        "\n",
        "# Assuming df is your DataFrame with the relevant columns ('query' and 'response')\n",
        "\n",
        "# Example data\n",
        "data = {\n",
        "    'flags': ['B', 'BQZ', 'BLQZ', 'BL', 'BCELN'],\n",
        "    'instruction': [\n",
        "        'question about cancelling order {{Order Number}}',\n",
        "        'i have a question about cancelling oorder {{Or...',\n",
        "        'i need help cancelling puchase {{Order Number}}',\n",
        "        'I need to cancel purchase {{Order Number}}',\n",
        "        'I cannot afford this order, cancel purchase {{...'\n",
        "    ],\n",
        "    'category': ['ORDER', 'ORDER', 'ORDER', 'ORDER', 'ORDER'],\n",
        "    'intent': ['cancel_order', 'cancel_order', 'cancel_order', 'cancel_order', 'cancel_order'],\n",
        "    'response': [\n",
        "        \"I've understood you have a question regarding ...\",\n",
        "        \"I've been informed that you have a question ab...\",\n",
        "        \"I can sense that you're seeking assistance wit...\",\n",
        "        \"I understood that you need assistance with can...\",\n",
        "        \"I'm sensitive to the fact that you're facing f...\"\n",
        "    ]\n",
        "}\n",
        "\n",
        "# Create DataFrame\n",
        "df = pd.DataFrame(data)\n",
        "\n",
        "# Function to clean text\n",
        "def clean_text(text):\n",
        "    text = text.lower()  # Convert text to lowercase\n",
        "    text = re.sub(f'[{re.escape(string.punctuation)}]', '', text)  # Remove punctuation\n",
        "    text = re.sub('\\s+', ' ', text).strip()  # Normalize whitespace\n",
        "    return text\n",
        "\n",
        "# Apply cleaning function to 'instruction' and 'response' columns\n",
        "df['instruction_clean'] = df['instruction'].apply(clean_text)\n",
        "df['response_clean'] = df['response'].apply(clean_text)\n",
        "\n",
        "# Display the cleaned dataset\n",
        "print(df.head())\n"
      ],
      "metadata": {
        "colab": {
          "base_uri": "https://localhost:8080/"
        },
        "id": "2ftCkYLZHIyN",
        "outputId": "b6fcc6ee-1e5b-42a8-aafe-2a38768e84ee"
      },
      "execution_count": 4,
      "outputs": [
        {
          "output_type": "stream",
          "name": "stdout",
          "text": [
            "   flags                                        instruction category  \\\n",
            "0      B   question about cancelling order {{Order Number}}    ORDER   \n",
            "1    BQZ  i have a question about cancelling oorder {{Or...    ORDER   \n",
            "2   BLQZ    i need help cancelling puchase {{Order Number}}    ORDER   \n",
            "3     BL         I need to cancel purchase {{Order Number}}    ORDER   \n",
            "4  BCELN  I cannot afford this order, cancel purchase {{...    ORDER   \n",
            "\n",
            "         intent                                           response  \\\n",
            "0  cancel_order  I've understood you have a question regarding ...   \n",
            "1  cancel_order  I've been informed that you have a question ab...   \n",
            "2  cancel_order  I can sense that you're seeking assistance wit...   \n",
            "3  cancel_order  I understood that you need assistance with can...   \n",
            "4  cancel_order  I'm sensitive to the fact that you're facing f...   \n",
            "\n",
            "                              instruction_clean  \\\n",
            "0  question about cancelling order order number   \n",
            "1  i have a question about cancelling oorder or   \n",
            "2   i need help cancelling puchase order number   \n",
            "3        i need to cancel purchase order number   \n",
            "4    i cannot afford this order cancel purchase   \n",
            "\n",
            "                                   response_clean  \n",
            "0    ive understood you have a question regarding  \n",
            "1   ive been informed that you have a question ab  \n",
            "2   i can sense that youre seeking assistance wit  \n",
            "3  i understood that you need assistance with can  \n",
            "4    im sensitive to the fact that youre facing f  \n"
          ]
        }
      ]
    },
    {
      "cell_type": "code",
      "source": [
        "pip install openai\n"
      ],
      "metadata": {
        "colab": {
          "base_uri": "https://localhost:8080/"
        },
        "id": "_eRfQ_PAHbnF",
        "outputId": "90ec0770-cd81-4f32-fec1-f5e2ee0abe09"
      },
      "execution_count": null,
      "outputs": [
        {
          "output_type": "stream",
          "name": "stdout",
          "text": [
            "Collecting openai\n",
            "  Downloading openai-1.35.13-py3-none-any.whl (328 kB)\n",
            "\u001b[?25l     \u001b[90m━━━━━━━━━━━━━━━━━━━━━━━━━━━━━━━━━━━━━━━━\u001b[0m \u001b[32m0.0/328.5 kB\u001b[0m \u001b[31m?\u001b[0m eta \u001b[36m-:--:--\u001b[0m\r\u001b[2K     \u001b[91m━━━━━━━━━━━━━━━━━━━━━━━━━━━\u001b[0m\u001b[90m╺\u001b[0m\u001b[90m━━━━━━━━━━━━\u001b[0m \u001b[32m225.3/328.5 kB\u001b[0m \u001b[31m6.6 MB/s\u001b[0m eta \u001b[36m0:00:01\u001b[0m\r\u001b[2K     \u001b[90m━━━━━━━━━━━━━━━━━━━━━━━━━━━━━━━━━━━━━━━━\u001b[0m \u001b[32m328.5/328.5 kB\u001b[0m \u001b[31m6.4 MB/s\u001b[0m eta \u001b[36m0:00:00\u001b[0m\n",
            "\u001b[?25hRequirement already satisfied: anyio<5,>=3.5.0 in /usr/local/lib/python3.10/dist-packages (from openai) (3.7.1)\n",
            "Requirement already satisfied: distro<2,>=1.7.0 in /usr/lib/python3/dist-packages (from openai) (1.7.0)\n",
            "Collecting httpx<1,>=0.23.0 (from openai)\n",
            "  Downloading httpx-0.27.0-py3-none-any.whl (75 kB)\n",
            "\u001b[2K     \u001b[90m━━━━━━━━━━━━━━━━━━━━━━━━━━━━━━━━━━━━━━━━\u001b[0m \u001b[32m75.6/75.6 kB\u001b[0m \u001b[31m5.6 MB/s\u001b[0m eta \u001b[36m0:00:00\u001b[0m\n",
            "\u001b[?25hRequirement already satisfied: pydantic<3,>=1.9.0 in /usr/local/lib/python3.10/dist-packages (from openai) (2.8.0)\n",
            "Requirement already satisfied: sniffio in /usr/local/lib/python3.10/dist-packages (from openai) (1.3.1)\n",
            "Requirement already satisfied: tqdm>4 in /usr/local/lib/python3.10/dist-packages (from openai) (4.66.4)\n",
            "Requirement already satisfied: typing-extensions<5,>=4.7 in /usr/local/lib/python3.10/dist-packages (from openai) (4.12.2)\n",
            "Requirement already satisfied: idna>=2.8 in /usr/local/lib/python3.10/dist-packages (from anyio<5,>=3.5.0->openai) (3.7)\n",
            "Requirement already satisfied: exceptiongroup in /usr/local/lib/python3.10/dist-packages (from anyio<5,>=3.5.0->openai) (1.2.1)\n",
            "Requirement already satisfied: certifi in /usr/local/lib/python3.10/dist-packages (from httpx<1,>=0.23.0->openai) (2024.6.2)\n",
            "Collecting httpcore==1.* (from httpx<1,>=0.23.0->openai)\n",
            "  Downloading httpcore-1.0.5-py3-none-any.whl (77 kB)\n",
            "\u001b[2K     \u001b[90m━━━━━━━━━━━━━━━━━━━━━━━━━━━━━━━━━━━━━━━━\u001b[0m \u001b[32m77.9/77.9 kB\u001b[0m \u001b[31m5.1 MB/s\u001b[0m eta \u001b[36m0:00:00\u001b[0m\n",
            "\u001b[?25hCollecting h11<0.15,>=0.13 (from httpcore==1.*->httpx<1,>=0.23.0->openai)\n",
            "  Downloading h11-0.14.0-py3-none-any.whl (58 kB)\n",
            "\u001b[2K     \u001b[90m━━━━━━━━━━━━━━━━━━━━━━━━━━━━━━━━━━━━━━━━\u001b[0m \u001b[32m58.3/58.3 kB\u001b[0m \u001b[31m9.3 MB/s\u001b[0m eta \u001b[36m0:00:00\u001b[0m\n",
            "\u001b[?25hRequirement already satisfied: annotated-types>=0.4.0 in /usr/local/lib/python3.10/dist-packages (from pydantic<3,>=1.9.0->openai) (0.7.0)\n",
            "Requirement already satisfied: pydantic-core==2.20.0 in /usr/local/lib/python3.10/dist-packages (from pydantic<3,>=1.9.0->openai) (2.20.0)\n",
            "Installing collected packages: h11, httpcore, httpx, openai\n",
            "Successfully installed h11-0.14.0 httpcore-1.0.5 httpx-0.27.0 openai-1.35.13\n"
          ]
        }
      ]
    },
    {
      "cell_type": "code",
      "source": [
        "# Upgrade openai package\n",
        "!pip install --upgrade openai\n",
        "\n",
        "# Verify installation\n",
        "!pip show openai\n",
        "\n"
      ],
      "metadata": {
        "colab": {
          "base_uri": "https://localhost:8080/"
        },
        "id": "cszzTA1sIINV",
        "outputId": "549ca76f-aa6b-493c-b367-9cf8b0c1c094"
      },
      "execution_count": 5,
      "outputs": [
        {
          "output_type": "stream",
          "name": "stdout",
          "text": [
            "Collecting openai\n",
            "  Downloading openai-1.35.13-py3-none-any.whl (328 kB)\n",
            "\u001b[?25l     \u001b[90m━━━━━━━━━━━━━━━━━━━━━━━━━━━━━━━━━━━━━━━━\u001b[0m \u001b[32m0.0/328.5 kB\u001b[0m \u001b[31m?\u001b[0m eta \u001b[36m-:--:--\u001b[0m\r\u001b[2K     \u001b[91m━━━━━━━━━━━━━━━━━━━━━━━━━━━━━━━━━\u001b[0m\u001b[91m╸\u001b[0m\u001b[90m━━━━━━\u001b[0m \u001b[32m276.5/328.5 kB\u001b[0m \u001b[31m8.1 MB/s\u001b[0m eta \u001b[36m0:00:01\u001b[0m\r\u001b[2K     \u001b[90m━━━━━━━━━━━━━━━━━━━━━━━━━━━━━━━━━━━━━━━━\u001b[0m \u001b[32m328.5/328.5 kB\u001b[0m \u001b[31m7.5 MB/s\u001b[0m eta \u001b[36m0:00:00\u001b[0m\n",
            "\u001b[?25hRequirement already satisfied: anyio<5,>=3.5.0 in /usr/local/lib/python3.10/dist-packages (from openai) (3.7.1)\n",
            "Requirement already satisfied: distro<2,>=1.7.0 in /usr/lib/python3/dist-packages (from openai) (1.7.0)\n",
            "Collecting httpx<1,>=0.23.0 (from openai)\n",
            "  Downloading httpx-0.27.0-py3-none-any.whl (75 kB)\n",
            "\u001b[?25l     \u001b[90m━━━━━━━━━━━━━━━━━━━━━━━━━━━━━━━━━━━━━━━━\u001b[0m \u001b[32m0.0/75.6 kB\u001b[0m \u001b[31m?\u001b[0m eta \u001b[36m-:--:--\u001b[0m\r\u001b[2K     \u001b[90m━━━━━━━━━━━━━━━━━━━━━━━━━━━━━━━━━━━━━━━━\u001b[0m \u001b[32m75.6/75.6 kB\u001b[0m \u001b[31m10.2 MB/s\u001b[0m eta \u001b[36m0:00:00\u001b[0m\n",
            "\u001b[?25hRequirement already satisfied: pydantic<3,>=1.9.0 in /usr/local/lib/python3.10/dist-packages (from openai) (2.8.2)\n",
            "Requirement already satisfied: sniffio in /usr/local/lib/python3.10/dist-packages (from openai) (1.3.1)\n",
            "Requirement already satisfied: tqdm>4 in /usr/local/lib/python3.10/dist-packages (from openai) (4.66.4)\n",
            "Requirement already satisfied: typing-extensions<5,>=4.7 in /usr/local/lib/python3.10/dist-packages (from openai) (4.12.2)\n",
            "Requirement already satisfied: idna>=2.8 in /usr/local/lib/python3.10/dist-packages (from anyio<5,>=3.5.0->openai) (3.7)\n",
            "Requirement already satisfied: exceptiongroup in /usr/local/lib/python3.10/dist-packages (from anyio<5,>=3.5.0->openai) (1.2.1)\n",
            "Requirement already satisfied: certifi in /usr/local/lib/python3.10/dist-packages (from httpx<1,>=0.23.0->openai) (2024.7.4)\n",
            "Collecting httpcore==1.* (from httpx<1,>=0.23.0->openai)\n",
            "  Downloading httpcore-1.0.5-py3-none-any.whl (77 kB)\n",
            "\u001b[2K     \u001b[90m━━━━━━━━━━━━━━━━━━━━━━━━━━━━━━━━━━━━━━━━\u001b[0m \u001b[32m77.9/77.9 kB\u001b[0m \u001b[31m11.2 MB/s\u001b[0m eta \u001b[36m0:00:00\u001b[0m\n",
            "\u001b[?25hCollecting h11<0.15,>=0.13 (from httpcore==1.*->httpx<1,>=0.23.0->openai)\n",
            "  Downloading h11-0.14.0-py3-none-any.whl (58 kB)\n",
            "\u001b[2K     \u001b[90m━━━━━━━━━━━━━━━━━━━━━━━━━━━━━━━━━━━━━━━━\u001b[0m \u001b[32m58.3/58.3 kB\u001b[0m \u001b[31m10.2 MB/s\u001b[0m eta \u001b[36m0:00:00\u001b[0m\n",
            "\u001b[?25hRequirement already satisfied: annotated-types>=0.4.0 in /usr/local/lib/python3.10/dist-packages (from pydantic<3,>=1.9.0->openai) (0.7.0)\n",
            "Requirement already satisfied: pydantic-core==2.20.1 in /usr/local/lib/python3.10/dist-packages (from pydantic<3,>=1.9.0->openai) (2.20.1)\n",
            "Installing collected packages: h11, httpcore, httpx, openai\n",
            "Successfully installed h11-0.14.0 httpcore-1.0.5 httpx-0.27.0 openai-1.35.13\n",
            "Name: openai\n",
            "Version: 1.35.13\n",
            "Summary: The official Python library for the openai API\n",
            "Home-page: \n",
            "Author: \n",
            "Author-email: OpenAI <support@openai.com>\n",
            "License: \n",
            "Location: /usr/local/lib/python3.10/dist-packages\n",
            "Requires: anyio, distro, httpx, pydantic, sniffio, tqdm, typing-extensions\n",
            "Required-by: \n"
          ]
        }
      ]
    },
    {
      "cell_type": "code",
      "source": [
        "import openai\n",
        "\n",
        "# Set up the OpenAI API key\n",
        "openai.api_key = 'amit_baran_dey'\n"
      ],
      "metadata": {
        "id": "KMIwdh0lIeSb"
      },
      "execution_count": 11,
      "outputs": []
    },
    {
      "cell_type": "code",
      "source": [
        "\n",
        "# Example of using the API to generate a response\n",
        "def generate_response(query):\n",
        "    response = openai.Completion.create(\n",
        "        model=\"text-davinci-003\",\n",
        "        prompt=query,\n",
        "        max_tokens=150\n",
        "    )\n",
        "    return response['choices'][0]['text'].strip()\n",
        "\n",
        "# Function to handle customer queries\n",
        "def handle_customer_query(query):\n",
        "    query_clean = clean_text(query)\n",
        "    response = generate_response(query_clean)\n",
        "    return response"
      ],
      "metadata": {
        "id": "8DGXdp3dIVqH"
      },
      "execution_count": 12,
      "outputs": []
    },
    {
      "cell_type": "code",
      "source": [
        "def generate_response(query):\n",
        "    response = openai.Completion.create(\n",
        "        model=\"text-davinci-003\",\n",
        "        prompt=query,\n",
        "        max_tokens=150\n",
        "    )\n",
        "    return response['choices'][0]['text'].strip()\n"
      ],
      "metadata": {
        "id": "djBwUgOfJ8K_"
      },
      "execution_count": 13,
      "outputs": []
    },
    {
      "cell_type": "code",
      "source": [
        "def generate_personalized_response(query, customer_data):\n",
        "    prompt = f\"\"\"\n",
        "    Customer Name: {customer_data['name']}\n",
        "    Last Interaction: {customer_data['last_interaction']}\n",
        "    Preferred Language: {customer_data['preferred_language']}\n",
        "\n",
        "    Query: {query}\n",
        "    \"\"\"\n",
        "    response = openai.Completion.create(\n",
        "        model=\"text-davinci-003\",\n",
        "        prompt=prompt,\n",
        "        max_tokens=150\n",
        "    )\n",
        "    return response['choices'][0]['text'].strip()\n"
      ],
      "metadata": {
        "id": "G2j4O1CHKDt-"
      },
      "execution_count": 14,
      "outputs": []
    },
    {
      "cell_type": "code",
      "source": [
        "def generate_response(prompt):\n",
        "    response = openai.Completion.create(\n",
        "        engine=\"text-davinci-003\",  # or \"gpt-3.5-turbo\"\n",
        "        prompt=prompt,\n",
        "        max_tokens=150,\n",
        "        n=1,\n",
        "        stop=None,\n",
        "        temperature=0.7,\n",
        "    )\n",
        "    return response.choices[0].text.strip()\n",
        "\n",
        "def automated_response_generation(customer_query):\n",
        "    prompt = f\"Customer query: {customer_query}\\nResponse:\"\n",
        "    response = generate_response(prompt)\n",
        "    return response\n",
        "\n",
        "def personalized_engagement_message(customer_name, interaction_history, preferences):\n",
        "    prompt = (f\"Generate a personalized message for a customer named {customer_name}.\\n\"\n",
        "              f\"Interaction history: {interaction_history}\\n\"\n",
        "              f\"Preferences: {preferences}\\n\"\n",
        "              f\"Personalized message:\")\n",
        "    message = generate_response(prompt)\n",
        "    return message"
      ],
      "metadata": {
        "id": "LcLcJAKLKwge"
      },
      "execution_count": 15,
      "outputs": []
    },
    {
      "cell_type": "code",
      "source": [],
      "metadata": {
        "id": "SOr16jXrKLLe"
      },
      "execution_count": null,
      "outputs": []
    }
  ]
}